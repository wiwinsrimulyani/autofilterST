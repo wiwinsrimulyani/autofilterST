{
 "cells": [
  {
   "cell_type": "code",
   "execution_count": 36,
   "metadata": {},
   "outputs": [],
   "source": [
    "import pandas as pd\n",
    "import os\n",
    "from openpyxl import load_workbook\n",
    "import openpyxl"
   ]
  },
  {
   "cell_type": "code",
   "execution_count": null,
   "metadata": {},
   "outputs": [],
   "source": [
    "#input disini\n",
    "folder = '6. Peternakan'\n",
    "kodekab = 1805"
   ]
  },
  {
   "cell_type": "code",
   "execution_count": 37,
   "metadata": {},
   "outputs": [],
   "source": [
    "fodernew = f'{folder}_new'\n",
    "listfile = os.listdir(folder)\n",
    "if not os.path.exists(fodernew):\n",
    "    os.makedirs(f'{folder}_new')"
   ]
  },
  {
   "cell_type": "code",
   "execution_count": 38,
   "metadata": {},
   "outputs": [],
   "source": [
    "for i in listfile:\n",
    "    try:\n",
    "        tempDf = pd.ExcelFile(f'{folder}/{i}')\n",
    "        sheetnames = tempDf.sheet_names\n",
    "        snProv = [s for s in sheetnames if \"prov\" in s]\n",
    "        snKab = [s for s in sheetnames if \"kab\" in s]\n",
    "        snKec =  [s for s in sheetnames if \"kec\" in s]\n",
    "        snDesa =  [s for s in sheetnames if \"desa\" in s]\n",
    "\n",
    "        dfProv = pd.read_excel(f'{folder}/{i}', sheet_name=snProv[0])\n",
    "        dfKab = pd.read_excel(f'{folder}/{i}', sheet_name=snKab[0])\n",
    "        dfKec = pd.read_excel(f'{folder}/{i}', sheet_name=snKec[0])\n",
    "        dfDesa = pd.read_excel(f'{folder}/{i}', sheet_name=snDesa[0])\n",
    "\n",
    "        dfProv18 = dfProv[dfProv['prov']==18]\n",
    "        dfKab1805 = dfKab[dfKab['kab']==kodekab]\n",
    "        dfKec1805 = dfKec[dfKec['kab']==kodekab]\n",
    "        dfDesa1805 = dfDesa[dfDesa['kab']==kodekab]\n",
    "\n",
    "\n",
    "        dfProv18.to_excel(f'{folder}_new/{i}', sheet_name=snProv[0], index = False)\n",
    "\n",
    "        with pd.ExcelWriter(f'{folder}_new/{i}', engine='openpyxl', mode = 'a') as writer:\n",
    "            dfKab1805.to_excel(writer, sheet_name=snKab[0], index = False)\n",
    "            dfKec1805.to_excel(writer, sheet_name=snKec[0], index = False)\n",
    "            dfDesa1805.to_excel(writer, sheet_name=snDesa[0], index = False)\n",
    "\n",
    "            #writer.close()\n",
    "    except:\n",
    "        \"tidak ada\"\n"
   ]
  }
 ],
 "metadata": {
  "kernelspec": {
   "display_name": "py33",
   "language": "python",
   "name": "python3"
  },
  "language_info": {
   "codemirror_mode": {
    "name": "ipython",
    "version": 3
   },
   "file_extension": ".py",
   "mimetype": "text/x-python",
   "name": "python",
   "nbconvert_exporter": "python",
   "pygments_lexer": "ipython3",
   "version": "3.9.19"
  }
 },
 "nbformat": 4,
 "nbformat_minor": 2
}
